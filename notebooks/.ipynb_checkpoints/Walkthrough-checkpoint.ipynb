{
 "cells": [
  {
   "cell_type": "markdown",
   "metadata": {},
   "source": [
    "# Data Updation"
   ]
  },
  {
   "cell_type": "code",
   "execution_count": 1,
   "metadata": {},
   "outputs": [
    {
     "name": "stdout",
     "output_type": "stream",
     "text": [
      "../data/COVID-19/csse_covid_19_data/csse_covid_19_time_series/time_series_covid19_confirmed_global.csv\n",
      "updating data base\n",
      "ERROR: b'From https://github.com/CSSEGISandData/COVID-19\\n * branch              HEAD       -> FETCH_HEAD\\n'\n",
      "out: b'Reinitialized existing Git repository in C:/Users/Vishal/Desktop/covid_project/data/COVID-19/.git/\\nHEAD is now at 6e011224 Update README.md\\nAlready up to date.\\n'\n",
      "Number of regions row: 16\n",
      "data base up to date\n"
     ]
    }
   ],
   "source": [
    "# %load C:\\Users\\Vishal\\Desktop\\covid_project\\data\\auto_update.py\n",
    "import subprocess\n",
    "import os\n",
    "from datetime import datetime\n",
    "import requests\n",
    "import json\n",
    "import numpy as np\n",
    "import pandas as pd\n",
    "import seaborn as sb\n",
    "import webbrowser\n",
    "import matplotlib as mpl\n",
    "chrome_path=\"C://Program Files (x86)//Google//Chrome//Application//chrome.exe\"\n",
    "webbrowser.register('chrome', None,webbrowser.BackgroundBrowser(chrome_path))\n",
    "mpl.rcParams['figure.figsize']=(50,20)\n",
    "pd.set_option('display.max_rows',500)\n",
    "dir_path=os.path.join('../data/COVID-19/')\n",
    "#print(dir_path, os.path.dirname(__file__))\n",
    "data_path=r'csse_covid_19_data/csse_covid_19_time_series/time_series_covid19_confirmed_global.csv'\n",
    "new_data_path= os.path.join(dir_path,data_path)\n",
    "print(new_data_path)\n",
    "#assert 1==2\n",
    "\n",
    "def update_data_from_git():\n",
    "    git_pull=subprocess.Popen('git init & git reset --hard & git pull https://github.com/CSSEGISandData/COVID-19.git' ,cwd=dir_path,shell=True,\n",
    "    stdout=subprocess.PIPE, stderr=subprocess.PIPE)\n",
    "    (out,error)=git_pull.communicate()\n",
    "    print('ERROR:', str(error))\n",
    "    print('out:', str(out))\n",
    "\n",
    "def get_current_data_germany():\n",
    "    API_data=requests.get('https://services7.arcgis.com/mOBPykOjAyBO2ZKk/arcgis/rest/services/Coronaf%C3%A4lle_in_den_Bundesl%C3%A4ndern/FeatureServer/0/query?where=1%3D1&outFields=*&outSR=4326&f=json')\n",
    "    json_object=json.loads(API_data.content)\n",
    "    json_object.keys()\n",
    "    MainList=[]\n",
    "    for pos, each_dict in enumerate(json_object['features'][:]):\n",
    "        MainList.append(each_dict['attributes'])\n",
    "    \n",
    "    list_from_json=pd.DataFrame(MainList)\n",
    "    #print(list_from_json)\n",
    "    list_from_json.to_csv(r\"C:/Users/Vishal/Desktop/covid_project/data/raw/NPGEO/GER_state_data.csv\",sep=';')\n",
    "    print('Number of regions row:', str(list_from_json.shape[0]))\n",
    "    \n",
    "\n",
    "if __name__ == '__main__' :\n",
    "        print('updating data base')\n",
    "        update_data_from_git()\n",
    "        get_current_data_germany()\n",
    "        pd_raw=pd.read_csv(new_data_path)\n",
    "        print('data base up to date')"
   ]
  },
  {
   "cell_type": "markdown",
   "metadata": {},
   "source": [
    "# Process Pipeline"
   ]
  },
  {
   "cell_type": "code",
   "execution_count": 2,
   "metadata": {},
   "outputs": [
    {
     "ename": "SyntaxError",
     "evalue": "invalid syntax (<ipython-input-2-ef90230ec25e>, line 40)",
     "output_type": "error",
     "traceback": [
      "\u001b[1;36m  File \u001b[1;32m\"<ipython-input-2-ef90230ec25e>\"\u001b[1;36m, line \u001b[1;32m40\u001b[0m\n\u001b[1;33m    pd_relational_model.to_csv('../data/processed/COVID_relational_confirmed.csv'),sep=';',index=False)\u001b[0m\n\u001b[1;37m                                                                                                      ^\u001b[0m\n\u001b[1;31mSyntaxError\u001b[0m\u001b[1;31m:\u001b[0m invalid syntax\n"
     ]
    }
   ],
   "source": [
    "# %load C:\\Users\\Vishal\\Desktop\\covid_project\\data\\relational_model.py\n",
    "import pandas as pd\n",
    "import numpy as np\n",
    "import os\n",
    "from datetime import datetime\n",
    "\n",
    "\n",
    "def store_relational_JH_data():\n",
    "    ''' Transformes the COVID data in a relational data set\n",
    "\n",
    "    '''\n",
    "\n",
    "    data_path=r'COVID-19/csse_covid_19_data/csse_covid_19_time_series/time_series_covid19_confirmed_global.csv'\n",
    "    dir_path=os.path.join(r'../data')\n",
    "    #print(dir_path)\n",
    "    new_data_path=os.path.join(dir_path,data_path)\n",
    "    print(new_data_path)\n",
    "    #assert 1==2\n",
    "#\"C:\\Users\\Vishal\\Desktop\\covid_project\\data\\relational_model.py\"\n",
    "    pd_raw=pd.read_csv(new_data_path)\n",
    "\n",
    "    pd_data_base=pd_raw.rename(columns={'Country/Region':'country',\n",
    "                      'Province/State':'state'})\n",
    "\n",
    "    pd_data_base['state']=pd_data_base['state'].fillna('no')\n",
    "\n",
    "    pd_data_base=pd_data_base.drop(['Lat','Long'],axis=1)\n",
    "\n",
    "\n",
    "    pd_relational_model=pd_data_base.set_index(['state','country']) \\\n",
    "                                .T                              \\\n",
    "                                .stack(level=[0,1])             \\\n",
    "                                .reset_index()                  \\\n",
    "                                .rename(columns={'level_0':'date',\n",
    "                                                   0:'confirmed'},\n",
    "                                                  )\n",
    "\n",
    "    pd_relational_model['date']=pd_relational_model.date.astype('datetime64[ns]')\n",
    "\n",
    "    pd_relational_model.to_csv('../data/processed/COVID_relational_confirmed.csv',sep=';',index=False)\n",
    "    print(' Number of rows stored: '+str(pd_relational_model.shape[0]))\n",
    "    \n",
    "if __name__ == '__main__':\n",
    "\n",
    "    store_relational_JH_data()\n"
   ]
  },
  {
   "cell_type": "markdown",
   "metadata": {},
   "source": [
    "# Slope Calculation"
   ]
  },
  {
   "cell_type": "markdown",
   "metadata": {},
   "source": [
    "# Visual Board"
   ]
  },
  {
   "cell_type": "code",
   "execution_count": null,
   "metadata": {},
   "outputs": [],
   "source": []
  }
 ],
 "metadata": {
  "kernelspec": {
   "display_name": "Python 3",
   "language": "python",
   "name": "python3"
  },
  "language_info": {
   "codemirror_mode": {
    "name": "ipython",
    "version": 3
   },
   "file_extension": ".py",
   "mimetype": "text/x-python",
   "name": "python",
   "nbconvert_exporter": "python",
   "pygments_lexer": "ipython3",
   "version": "3.7.1"
  }
 },
 "nbformat": 4,
 "nbformat_minor": 2
}
